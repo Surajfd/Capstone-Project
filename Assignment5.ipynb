{
 "cells": [
  {
   "cell_type": "markdown",
   "id": "38235255",
   "metadata": {},
   "source": [
    "# Problem Statement:\n",
    "You work in XYZ Corporation as a Data Analyst. Your company has told you to work with the If- Else Conditions.\n",
    "Tasks to be performed:\n",
    "1. Create an array that is having user defined inputs and with the help of for loop, fetch all the prime numbers and print the numbers.\n"
   ]
  },
  {
   "cell_type": "code",
   "execution_count": 1,
   "id": "c875e359",
   "metadata": {},
   "outputs": [
    {
     "name": "stdout",
     "output_type": "stream",
     "text": [
      "Enter the lower value:1\n",
      "Enter the upper value:5\n",
      "2\n",
      "3\n",
      "5\n"
     ]
    }
   ],
   "source": [
    "lower = int(input(\"Enter the lower value:\"))\n",
    "upper = int(input(\"Enter the upper value:\"))\n",
    "for number in range(lower,upper+1):\n",
    "    if number>1:\n",
    "        for i in range(2,number):\n",
    "            if (number%i)==0:\n",
    "                break\n",
    "        else:\n",
    "            print(number)"
   ]
  },
  {
   "cell_type": "markdown",
   "id": "32ccc00d",
   "metadata": {},
   "source": [
    "# Problem Statement: You work in XYZ Corporation as a Data Analyst. Your company has told you to work with the If- Else Conditions. Tasks to be performed:\n",
    "1. Print the numbers from 1 to 10 using while loop."
   ]
  },
  {
   "cell_type": "code",
   "execution_count": 2,
   "id": "03d7b390",
   "metadata": {},
   "outputs": [
    {
     "name": "stdout",
     "output_type": "stream",
     "text": [
      "1\n",
      "2\n",
      "3\n",
      "4\n",
      "5\n",
      "6\n",
      "7\n",
      "8\n",
      "9\n",
      "10\n"
     ]
    }
   ],
   "source": [
    "i = 1\n",
    "while(i<=10):\n",
    "    print(i)\n",
    "    i += 1"
   ]
  },
  {
   "cell_type": "markdown",
   "id": "c87bf291",
   "metadata": {},
   "source": [
    "# Problem Statement: You work in XYZ Corporation as a Data Analyst. Your company has told you to work with the If- Else Conditions. Tasks to be performed:\n",
    "Create a list that is having 10,23,4,26,4,75,24,54 values and with the help of while loop, fetch the even numbers and print the numbers."
   ]
  },
  {
   "cell_type": "code",
   "execution_count": 3,
   "id": "c1c687d3",
   "metadata": {},
   "outputs": [
    {
     "name": "stdout",
     "output_type": "stream",
     "text": [
      "10 4 66 "
     ]
    }
   ],
   "source": [
    "\n",
    "# list of numbers\n",
    "list1 = [10, 21, 4, 45, 66, 93]\n",
    " \n",
    "# iterating each number in list\n",
    "for num in list1:\n",
    " \n",
    "    # checking condition\n",
    "    if num % 2 == 0:\n",
    "        print(num, end=\" \")"
   ]
  },
  {
   "cell_type": "code",
   "execution_count": null,
   "id": "02130b2e",
   "metadata": {},
   "outputs": [],
   "source": []
  }
 ],
 "metadata": {
  "kernelspec": {
   "display_name": "Python 3 (ipykernel)",
   "language": "python",
   "name": "python3"
  },
  "language_info": {
   "codemirror_mode": {
    "name": "ipython",
    "version": 3
   },
   "file_extension": ".py",
   "mimetype": "text/x-python",
   "name": "python",
   "nbconvert_exporter": "python",
   "pygments_lexer": "ipython3",
   "version": "3.9.12"
  }
 },
 "nbformat": 4,
 "nbformat_minor": 5
}
